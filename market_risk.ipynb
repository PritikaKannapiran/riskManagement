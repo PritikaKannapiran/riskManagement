{
  "nbformat": 4,
  "nbformat_minor": 0,
  "metadata": {
    "colab": {
      "provenance": []
    },
    "kernelspec": {
      "name": "python3",
      "display_name": "Python 3"
    },
    "language_info": {
      "name": "python"
    }
  },
  "cells": [
    {
      "cell_type": "code",
      "execution_count": null,
      "metadata": {
        "id": "GoF_P3tMlIvE"
      },
      "outputs": [],
      "source": [
        "import numpy as np\n",
        "import pandas as pd"
      ]
    },
    {
      "cell_type": "code",
      "source": [
        "import matplotlib.pyplot as plt\n",
        "import seaborn as sns \n",
        "import time\n",
        "import warnings\n",
        "warnings.filterwarnings(\"ignore\")\n",
        "%matplotlib inline \n",
        "plt.style.use('fivethirtyeight')"
      ],
      "metadata": {
        "id": "NAfjZDmq3jga"
      },
      "execution_count": null,
      "outputs": []
    },
    {
      "cell_type": "code",
      "source": [
        "from sklearn.datasets import make_classification\n",
        "from sklearn.compose import ColumnTransformer,make_column_selector\n",
        "from sklearn.model_selection import train_test_split, RandomizedSearchCV, cross_val_score, RepeatedKFold,RepeatedStratifiedKFold\n",
        "from sklearn.preprocessing import OneHotEncoder, StandardScaler, LabelEncoder\n",
        "from sklearn.experimental import enable_iterative_imputer\n",
        "from sklearn.impute import IterativeImputer"
      ],
      "metadata": {
        "id": "ecp49o-F3sHe"
      },
      "execution_count": null,
      "outputs": []
    },
    {
      "cell_type": "code",
      "source": [
        "from sklearn.linear_model import LogisticRegression,LinearRegression\n",
        "from sklearn.neighbors import KNeighborsClassifier,KNeighborsRegressor\n",
        "from sklearn.svm import SVC\n",
        "from sklearn.naive_bayes import GaussianNB\n",
        "from sklearn.tree import DecisionTreeClassifier\n",
        "from sklearn.ensemble import RandomForestClassifier,RandomForestRegressor\n",
        "from xgboost import XGBClassifier\n",
        "from lightgbm import LGBMClassifier\n"
      ],
      "metadata": {
        "id": "umFnZkLO30Ej"
      },
      "execution_count": null,
      "outputs": []
    },
    {
      "cell_type": "code",
      "source": [
        "from imblearn.over_sampling import SMOTE\n",
        "from imblearn.pipeline import Pipeline\n",
        "import missingno as msno\n",
        "\n",
        "from sklearn.metrics import roc_curve, roc_auc_score, auc\n",
        "\n",
        "from sklearn.model_selection import learning_curve"
      ],
      "metadata": {
        "id": "0phWdpcA4Y7o"
      },
      "execution_count": null,
      "outputs": []
    },
    {
      "cell_type": "code",
      "source": [
        "df=pd.read_csv('/content/market_risk - Sheet1.csv')"
      ],
      "metadata": {
        "id": "uUv_bCemnOwk"
      },
      "execution_count": null,
      "outputs": []
    },
    {
      "cell_type": "code",
      "source": [
        "df.head()"
      ],
      "metadata": {
        "id": "BxtZnbVinR45",
        "colab": {
          "base_uri": "https://localhost:8080/",
          "height": 206
        },
        "outputId": "ece71d46-a6c8-419a-e665-b541029d3c3d"
      },
      "execution_count": null,
      "outputs": [
        {
          "output_type": "execute_result",
          "data": {
            "text/plain": [
              "       DATE  ASSET_A  ASSET_B  ASSET_C  ASSET_D  ASSET_E\n",
              "0  7/1/2022    0.009   -0.003    0.010    0.010   -0.008\n",
              "1  7/2/2022   -0.010    0.006    0.001    0.005    0.007\n",
              "2  7/3/2022   -0.002    0.010   -0.006    0.002   -0.004\n",
              "3  7/4/2022   -0.007   -0.008    0.003   -0.002    0.001\n",
              "4  7/5/2022   -0.003   -0.003    0.005   -0.008   -0.009"
            ],
            "text/html": [
              "\n",
              "  <div id=\"df-dc0fff19-1e93-4c89-b6f0-5cefd6df6da3\">\n",
              "    <div class=\"colab-df-container\">\n",
              "      <div>\n",
              "<style scoped>\n",
              "    .dataframe tbody tr th:only-of-type {\n",
              "        vertical-align: middle;\n",
              "    }\n",
              "\n",
              "    .dataframe tbody tr th {\n",
              "        vertical-align: top;\n",
              "    }\n",
              "\n",
              "    .dataframe thead th {\n",
              "        text-align: right;\n",
              "    }\n",
              "</style>\n",
              "<table border=\"1\" class=\"dataframe\">\n",
              "  <thead>\n",
              "    <tr style=\"text-align: right;\">\n",
              "      <th></th>\n",
              "      <th>DATE</th>\n",
              "      <th>ASSET_A</th>\n",
              "      <th>ASSET_B</th>\n",
              "      <th>ASSET_C</th>\n",
              "      <th>ASSET_D</th>\n",
              "      <th>ASSET_E</th>\n",
              "    </tr>\n",
              "  </thead>\n",
              "  <tbody>\n",
              "    <tr>\n",
              "      <th>0</th>\n",
              "      <td>7/1/2022</td>\n",
              "      <td>0.009</td>\n",
              "      <td>-0.003</td>\n",
              "      <td>0.010</td>\n",
              "      <td>0.010</td>\n",
              "      <td>-0.008</td>\n",
              "    </tr>\n",
              "    <tr>\n",
              "      <th>1</th>\n",
              "      <td>7/2/2022</td>\n",
              "      <td>-0.010</td>\n",
              "      <td>0.006</td>\n",
              "      <td>0.001</td>\n",
              "      <td>0.005</td>\n",
              "      <td>0.007</td>\n",
              "    </tr>\n",
              "    <tr>\n",
              "      <th>2</th>\n",
              "      <td>7/3/2022</td>\n",
              "      <td>-0.002</td>\n",
              "      <td>0.010</td>\n",
              "      <td>-0.006</td>\n",
              "      <td>0.002</td>\n",
              "      <td>-0.004</td>\n",
              "    </tr>\n",
              "    <tr>\n",
              "      <th>3</th>\n",
              "      <td>7/4/2022</td>\n",
              "      <td>-0.007</td>\n",
              "      <td>-0.008</td>\n",
              "      <td>0.003</td>\n",
              "      <td>-0.002</td>\n",
              "      <td>0.001</td>\n",
              "    </tr>\n",
              "    <tr>\n",
              "      <th>4</th>\n",
              "      <td>7/5/2022</td>\n",
              "      <td>-0.003</td>\n",
              "      <td>-0.003</td>\n",
              "      <td>0.005</td>\n",
              "      <td>-0.008</td>\n",
              "      <td>-0.009</td>\n",
              "    </tr>\n",
              "  </tbody>\n",
              "</table>\n",
              "</div>\n",
              "      <button class=\"colab-df-convert\" onclick=\"convertToInteractive('df-dc0fff19-1e93-4c89-b6f0-5cefd6df6da3')\"\n",
              "              title=\"Convert this dataframe to an interactive table.\"\n",
              "              style=\"display:none;\">\n",
              "        \n",
              "  <svg xmlns=\"http://www.w3.org/2000/svg\" height=\"24px\"viewBox=\"0 0 24 24\"\n",
              "       width=\"24px\">\n",
              "    <path d=\"M0 0h24v24H0V0z\" fill=\"none\"/>\n",
              "    <path d=\"M18.56 5.44l.94 2.06.94-2.06 2.06-.94-2.06-.94-.94-2.06-.94 2.06-2.06.94zm-11 1L8.5 8.5l.94-2.06 2.06-.94-2.06-.94L8.5 2.5l-.94 2.06-2.06.94zm10 10l.94 2.06.94-2.06 2.06-.94-2.06-.94-.94-2.06-.94 2.06-2.06.94z\"/><path d=\"M17.41 7.96l-1.37-1.37c-.4-.4-.92-.59-1.43-.59-.52 0-1.04.2-1.43.59L10.3 9.45l-7.72 7.72c-.78.78-.78 2.05 0 2.83L4 21.41c.39.39.9.59 1.41.59.51 0 1.02-.2 1.41-.59l7.78-7.78 2.81-2.81c.8-.78.8-2.07 0-2.86zM5.41 20L4 18.59l7.72-7.72 1.47 1.35L5.41 20z\"/>\n",
              "  </svg>\n",
              "      </button>\n",
              "      \n",
              "  <style>\n",
              "    .colab-df-container {\n",
              "      display:flex;\n",
              "      flex-wrap:wrap;\n",
              "      gap: 12px;\n",
              "    }\n",
              "\n",
              "    .colab-df-convert {\n",
              "      background-color: #E8F0FE;\n",
              "      border: none;\n",
              "      border-radius: 50%;\n",
              "      cursor: pointer;\n",
              "      display: none;\n",
              "      fill: #1967D2;\n",
              "      height: 32px;\n",
              "      padding: 0 0 0 0;\n",
              "      width: 32px;\n",
              "    }\n",
              "\n",
              "    .colab-df-convert:hover {\n",
              "      background-color: #E2EBFA;\n",
              "      box-shadow: 0px 1px 2px rgba(60, 64, 67, 0.3), 0px 1px 3px 1px rgba(60, 64, 67, 0.15);\n",
              "      fill: #174EA6;\n",
              "    }\n",
              "\n",
              "    [theme=dark] .colab-df-convert {\n",
              "      background-color: #3B4455;\n",
              "      fill: #D2E3FC;\n",
              "    }\n",
              "\n",
              "    [theme=dark] .colab-df-convert:hover {\n",
              "      background-color: #434B5C;\n",
              "      box-shadow: 0px 1px 3px 1px rgba(0, 0, 0, 0.15);\n",
              "      filter: drop-shadow(0px 1px 2px rgba(0, 0, 0, 0.3));\n",
              "      fill: #FFFFFF;\n",
              "    }\n",
              "  </style>\n",
              "\n",
              "      <script>\n",
              "        const buttonEl =\n",
              "          document.querySelector('#df-dc0fff19-1e93-4c89-b6f0-5cefd6df6da3 button.colab-df-convert');\n",
              "        buttonEl.style.display =\n",
              "          google.colab.kernel.accessAllowed ? 'block' : 'none';\n",
              "\n",
              "        async function convertToInteractive(key) {\n",
              "          const element = document.querySelector('#df-dc0fff19-1e93-4c89-b6f0-5cefd6df6da3');\n",
              "          const dataTable =\n",
              "            await google.colab.kernel.invokeFunction('convertToInteractive',\n",
              "                                                     [key], {});\n",
              "          if (!dataTable) return;\n",
              "\n",
              "          const docLinkHtml = 'Like what you see? Visit the ' +\n",
              "            '<a target=\"_blank\" href=https://colab.research.google.com/notebooks/data_table.ipynb>data table notebook</a>'\n",
              "            + ' to learn more about interactive tables.';\n",
              "          element.innerHTML = '';\n",
              "          dataTable['output_type'] = 'display_data';\n",
              "          await google.colab.output.renderOutput(dataTable, element);\n",
              "          const docLink = document.createElement('div');\n",
              "          docLink.innerHTML = docLinkHtml;\n",
              "          element.appendChild(docLink);\n",
              "        }\n",
              "      </script>\n",
              "    </div>\n",
              "  </div>\n",
              "  "
            ]
          },
          "metadata": {},
          "execution_count": 142
        }
      ]
    },
    {
      "cell_type": "code",
      "source": [
        "import matplotlib as plt"
      ],
      "metadata": {
        "id": "gWdCX03cngAL"
      },
      "execution_count": null,
      "outputs": []
    },
    {
      "cell_type": "code",
      "source": [
        "df"
      ],
      "metadata": {
        "colab": {
          "base_uri": "https://localhost:8080/",
          "height": 423
        },
        "id": "aAQpfGNmoHEp",
        "outputId": "eaa62f0c-eb86-41bd-8a76-6df65df69148"
      },
      "execution_count": null,
      "outputs": [
        {
          "output_type": "execute_result",
          "data": {
            "text/plain": [
              "          DATE  ASSET_A  ASSET_B  ASSET_C  ASSET_D  ASSET_E\n",
              "0     7/1/2022    0.009   -0.003    0.010    0.010   -0.008\n",
              "1     7/2/2022   -0.010    0.006    0.001    0.005    0.007\n",
              "2     7/3/2022   -0.002    0.010   -0.006    0.002   -0.004\n",
              "3     7/4/2022   -0.007   -0.008    0.003   -0.002    0.001\n",
              "4     7/5/2022   -0.003   -0.003    0.005   -0.008   -0.009\n",
              "..         ...      ...      ...      ...      ...      ...\n",
              "371   7/7/2023    0.009    0.003    0.001    0.000   -0.005\n",
              "372   7/8/2023    0.007   -0.003    0.008    0.008   -0.006\n",
              "373   7/9/2023   -0.005   -0.001   -0.008   -0.006   -0.004\n",
              "374  7/10/2023   -0.005   -0.003    0.000   -0.009    0.005\n",
              "375  7/11/2023    0.004    0.006    0.006   -0.002    0.003\n",
              "\n",
              "[376 rows x 6 columns]"
            ],
            "text/html": [
              "\n",
              "  <div id=\"df-2b0f48de-bc47-44d2-b45c-70d589c6a873\">\n",
              "    <div class=\"colab-df-container\">\n",
              "      <div>\n",
              "<style scoped>\n",
              "    .dataframe tbody tr th:only-of-type {\n",
              "        vertical-align: middle;\n",
              "    }\n",
              "\n",
              "    .dataframe tbody tr th {\n",
              "        vertical-align: top;\n",
              "    }\n",
              "\n",
              "    .dataframe thead th {\n",
              "        text-align: right;\n",
              "    }\n",
              "</style>\n",
              "<table border=\"1\" class=\"dataframe\">\n",
              "  <thead>\n",
              "    <tr style=\"text-align: right;\">\n",
              "      <th></th>\n",
              "      <th>DATE</th>\n",
              "      <th>ASSET_A</th>\n",
              "      <th>ASSET_B</th>\n",
              "      <th>ASSET_C</th>\n",
              "      <th>ASSET_D</th>\n",
              "      <th>ASSET_E</th>\n",
              "    </tr>\n",
              "  </thead>\n",
              "  <tbody>\n",
              "    <tr>\n",
              "      <th>0</th>\n",
              "      <td>7/1/2022</td>\n",
              "      <td>0.009</td>\n",
              "      <td>-0.003</td>\n",
              "      <td>0.010</td>\n",
              "      <td>0.010</td>\n",
              "      <td>-0.008</td>\n",
              "    </tr>\n",
              "    <tr>\n",
              "      <th>1</th>\n",
              "      <td>7/2/2022</td>\n",
              "      <td>-0.010</td>\n",
              "      <td>0.006</td>\n",
              "      <td>0.001</td>\n",
              "      <td>0.005</td>\n",
              "      <td>0.007</td>\n",
              "    </tr>\n",
              "    <tr>\n",
              "      <th>2</th>\n",
              "      <td>7/3/2022</td>\n",
              "      <td>-0.002</td>\n",
              "      <td>0.010</td>\n",
              "      <td>-0.006</td>\n",
              "      <td>0.002</td>\n",
              "      <td>-0.004</td>\n",
              "    </tr>\n",
              "    <tr>\n",
              "      <th>3</th>\n",
              "      <td>7/4/2022</td>\n",
              "      <td>-0.007</td>\n",
              "      <td>-0.008</td>\n",
              "      <td>0.003</td>\n",
              "      <td>-0.002</td>\n",
              "      <td>0.001</td>\n",
              "    </tr>\n",
              "    <tr>\n",
              "      <th>4</th>\n",
              "      <td>7/5/2022</td>\n",
              "      <td>-0.003</td>\n",
              "      <td>-0.003</td>\n",
              "      <td>0.005</td>\n",
              "      <td>-0.008</td>\n",
              "      <td>-0.009</td>\n",
              "    </tr>\n",
              "    <tr>\n",
              "      <th>...</th>\n",
              "      <td>...</td>\n",
              "      <td>...</td>\n",
              "      <td>...</td>\n",
              "      <td>...</td>\n",
              "      <td>...</td>\n",
              "      <td>...</td>\n",
              "    </tr>\n",
              "    <tr>\n",
              "      <th>371</th>\n",
              "      <td>7/7/2023</td>\n",
              "      <td>0.009</td>\n",
              "      <td>0.003</td>\n",
              "      <td>0.001</td>\n",
              "      <td>0.000</td>\n",
              "      <td>-0.005</td>\n",
              "    </tr>\n",
              "    <tr>\n",
              "      <th>372</th>\n",
              "      <td>7/8/2023</td>\n",
              "      <td>0.007</td>\n",
              "      <td>-0.003</td>\n",
              "      <td>0.008</td>\n",
              "      <td>0.008</td>\n",
              "      <td>-0.006</td>\n",
              "    </tr>\n",
              "    <tr>\n",
              "      <th>373</th>\n",
              "      <td>7/9/2023</td>\n",
              "      <td>-0.005</td>\n",
              "      <td>-0.001</td>\n",
              "      <td>-0.008</td>\n",
              "      <td>-0.006</td>\n",
              "      <td>-0.004</td>\n",
              "    </tr>\n",
              "    <tr>\n",
              "      <th>374</th>\n",
              "      <td>7/10/2023</td>\n",
              "      <td>-0.005</td>\n",
              "      <td>-0.003</td>\n",
              "      <td>0.000</td>\n",
              "      <td>-0.009</td>\n",
              "      <td>0.005</td>\n",
              "    </tr>\n",
              "    <tr>\n",
              "      <th>375</th>\n",
              "      <td>7/11/2023</td>\n",
              "      <td>0.004</td>\n",
              "      <td>0.006</td>\n",
              "      <td>0.006</td>\n",
              "      <td>-0.002</td>\n",
              "      <td>0.003</td>\n",
              "    </tr>\n",
              "  </tbody>\n",
              "</table>\n",
              "<p>376 rows × 6 columns</p>\n",
              "</div>\n",
              "      <button class=\"colab-df-convert\" onclick=\"convertToInteractive('df-2b0f48de-bc47-44d2-b45c-70d589c6a873')\"\n",
              "              title=\"Convert this dataframe to an interactive table.\"\n",
              "              style=\"display:none;\">\n",
              "        \n",
              "  <svg xmlns=\"http://www.w3.org/2000/svg\" height=\"24px\"viewBox=\"0 0 24 24\"\n",
              "       width=\"24px\">\n",
              "    <path d=\"M0 0h24v24H0V0z\" fill=\"none\"/>\n",
              "    <path d=\"M18.56 5.44l.94 2.06.94-2.06 2.06-.94-2.06-.94-.94-2.06-.94 2.06-2.06.94zm-11 1L8.5 8.5l.94-2.06 2.06-.94-2.06-.94L8.5 2.5l-.94 2.06-2.06.94zm10 10l.94 2.06.94-2.06 2.06-.94-2.06-.94-.94-2.06-.94 2.06-2.06.94z\"/><path d=\"M17.41 7.96l-1.37-1.37c-.4-.4-.92-.59-1.43-.59-.52 0-1.04.2-1.43.59L10.3 9.45l-7.72 7.72c-.78.78-.78 2.05 0 2.83L4 21.41c.39.39.9.59 1.41.59.51 0 1.02-.2 1.41-.59l7.78-7.78 2.81-2.81c.8-.78.8-2.07 0-2.86zM5.41 20L4 18.59l7.72-7.72 1.47 1.35L5.41 20z\"/>\n",
              "  </svg>\n",
              "      </button>\n",
              "      \n",
              "  <style>\n",
              "    .colab-df-container {\n",
              "      display:flex;\n",
              "      flex-wrap:wrap;\n",
              "      gap: 12px;\n",
              "    }\n",
              "\n",
              "    .colab-df-convert {\n",
              "      background-color: #E8F0FE;\n",
              "      border: none;\n",
              "      border-radius: 50%;\n",
              "      cursor: pointer;\n",
              "      display: none;\n",
              "      fill: #1967D2;\n",
              "      height: 32px;\n",
              "      padding: 0 0 0 0;\n",
              "      width: 32px;\n",
              "    }\n",
              "\n",
              "    .colab-df-convert:hover {\n",
              "      background-color: #E2EBFA;\n",
              "      box-shadow: 0px 1px 2px rgba(60, 64, 67, 0.3), 0px 1px 3px 1px rgba(60, 64, 67, 0.15);\n",
              "      fill: #174EA6;\n",
              "    }\n",
              "\n",
              "    [theme=dark] .colab-df-convert {\n",
              "      background-color: #3B4455;\n",
              "      fill: #D2E3FC;\n",
              "    }\n",
              "\n",
              "    [theme=dark] .colab-df-convert:hover {\n",
              "      background-color: #434B5C;\n",
              "      box-shadow: 0px 1px 3px 1px rgba(0, 0, 0, 0.15);\n",
              "      filter: drop-shadow(0px 1px 2px rgba(0, 0, 0, 0.3));\n",
              "      fill: #FFFFFF;\n",
              "    }\n",
              "  </style>\n",
              "\n",
              "      <script>\n",
              "        const buttonEl =\n",
              "          document.querySelector('#df-2b0f48de-bc47-44d2-b45c-70d589c6a873 button.colab-df-convert');\n",
              "        buttonEl.style.display =\n",
              "          google.colab.kernel.accessAllowed ? 'block' : 'none';\n",
              "\n",
              "        async function convertToInteractive(key) {\n",
              "          const element = document.querySelector('#df-2b0f48de-bc47-44d2-b45c-70d589c6a873');\n",
              "          const dataTable =\n",
              "            await google.colab.kernel.invokeFunction('convertToInteractive',\n",
              "                                                     [key], {});\n",
              "          if (!dataTable) return;\n",
              "\n",
              "          const docLinkHtml = 'Like what you see? Visit the ' +\n",
              "            '<a target=\"_blank\" href=https://colab.research.google.com/notebooks/data_table.ipynb>data table notebook</a>'\n",
              "            + ' to learn more about interactive tables.';\n",
              "          element.innerHTML = '';\n",
              "          dataTable['output_type'] = 'display_data';\n",
              "          await google.colab.output.renderOutput(dataTable, element);\n",
              "          const docLink = document.createElement('div');\n",
              "          docLink.innerHTML = docLinkHtml;\n",
              "          element.appendChild(docLink);\n",
              "        }\n",
              "      </script>\n",
              "    </div>\n",
              "  </div>\n",
              "  "
            ]
          },
          "metadata": {},
          "execution_count": 144
        }
      ]
    },
    {
      "cell_type": "code",
      "source": [
        "df.columns"
      ],
      "metadata": {
        "colab": {
          "base_uri": "https://localhost:8080/"
        },
        "id": "HYyHrqoJOWUl",
        "outputId": "c30c592e-8c18-45ba-e861-e39a3031735b"
      },
      "execution_count": null,
      "outputs": [
        {
          "output_type": "execute_result",
          "data": {
            "text/plain": [
              "Index(['DATE', 'ASSET_A', 'ASSET_B', 'ASSET_C', 'ASSET_D', 'ASSET_E'], dtype='object')"
            ]
          },
          "metadata": {},
          "execution_count": 145
        }
      ]
    },
    {
      "cell_type": "markdown",
      "source": [
        "### Preprocessing of data\n"
      ],
      "metadata": {
        "id": "w_W92_WX3S_l"
      }
    },
    {
      "cell_type": "code",
      "source": [
        "df.shape"
      ],
      "metadata": {
        "colab": {
          "base_uri": "https://localhost:8080/"
        },
        "id": "BgtwqcFSBYUB",
        "outputId": "e6b448f5-a63b-4bde-f45d-6404c24b910a"
      },
      "execution_count": null,
      "outputs": [
        {
          "output_type": "execute_result",
          "data": {
            "text/plain": [
              "(376, 6)"
            ]
          },
          "metadata": {},
          "execution_count": 146
        }
      ]
    },
    {
      "cell_type": "code",
      "source": [
        "df.info()"
      ],
      "metadata": {
        "colab": {
          "base_uri": "https://localhost:8080/"
        },
        "id": "Uhr5hbLRBbju",
        "outputId": "1dabec35-9476-4b4a-8093-ad1946d22b77"
      },
      "execution_count": null,
      "outputs": [
        {
          "output_type": "stream",
          "name": "stdout",
          "text": [
            "<class 'pandas.core.frame.DataFrame'>\n",
            "RangeIndex: 376 entries, 0 to 375\n",
            "Data columns (total 6 columns):\n",
            " #   Column   Non-Null Count  Dtype  \n",
            "---  ------   --------------  -----  \n",
            " 0   DATE     376 non-null    object \n",
            " 1   ASSET_A  376 non-null    float64\n",
            " 2   ASSET_B  376 non-null    float64\n",
            " 3   ASSET_C  376 non-null    float64\n",
            " 4   ASSET_D  376 non-null    float64\n",
            " 5   ASSET_E  376 non-null    float64\n",
            "dtypes: float64(5), object(1)\n",
            "memory usage: 17.8+ KB\n"
          ]
        }
      ]
    },
    {
      "cell_type": "code",
      "source": [
        "for cols in df.columns:\n",
        "  for i in range(df.shape[0]):\n",
        "    if(df[cols].iloc[i])==0:\n",
        "        df[cols].iloc[i]=df[cols].iloc[i-1]"
      ],
      "metadata": {
        "id": "iC66u5bFBN4Y"
      },
      "execution_count": null,
      "outputs": []
    },
    {
      "cell_type": "markdown",
      "source": [
        "# **Visualizing Data**"
      ],
      "metadata": {
        "id": "A0IbA-e7FNkD"
      }
    },
    {
      "cell_type": "code",
      "source": [
        "df.hist(figsize=(20,10))"
      ],
      "metadata": {
        "colab": {
          "base_uri": "https://localhost:8080/",
          "height": 414
        },
        "id": "oi-lj_LsFWxf",
        "outputId": "b6fb8452-883f-4c22-fe97-899156a0b397"
      },
      "execution_count": null,
      "outputs": [
        {
          "output_type": "execute_result",
          "data": {
            "text/plain": [
              "array([[<Axes: title={'center': 'ASSET_A'}>,\n",
              "        <Axes: title={'center': 'ASSET_B'}>],\n",
              "       [<Axes: title={'center': 'ASSET_C'}>,\n",
              "        <Axes: title={'center': 'ASSET_D'}>],\n",
              "       [<Axes: title={'center': 'ASSET_E'}>, <Axes: >]], dtype=object)"
            ]
          },
          "metadata": {},
          "execution_count": 149
        },
        {
          "output_type": "display_data",
          "data": {
            "text/plain": [
              "<Figure size 2000x1000 with 6 Axes>"
            ],
            "image/png": "[encoded data removed]"
          },
          "metadata": {}
        }
      ]
    },
    {
      "cell_type": "code",
      "source": [
        "import seaborn as sns"
      ],
      "metadata": {
        "id": "lRzOWOcfG-uR"
      },
      "execution_count": null,
      "outputs": []
    },
    {
      "cell_type": "code",
      "source": [
        "df"
      ],
      "metadata": {
        "colab": {
          "base_uri": "https://localhost:8080/",
          "height": 423
        },
        "id": "YxfkYfucK4kn",
        "outputId": "9e1cc091-efdb-4fde-f5a4-0a83c52a630f"
      },
      "execution_count": null,
      "outputs": [
        {
          "output_type": "execute_result",
          "data": {
            "text/plain": [
              "          DATE  ASSET_A  ASSET_B  ASSET_C  ASSET_D  ASSET_E\n",
              "0     7/1/2022    0.009   -0.003    0.010    0.010   -0.008\n",
              "1     7/2/2022   -0.010    0.006    0.001    0.005    0.007\n",
              "2     7/3/2022   -0.002    0.010   -0.006    0.002   -0.004\n",
              "3     7/4/2022   -0.007   -0.008    0.003   -0.002    0.001\n",
              "4     7/5/2022   -0.003   -0.003    0.005   -0.008   -0.009\n",
              "..         ...      ...      ...      ...      ...      ...\n",
              "371   7/7/2023    0.009    0.003    0.001    0.001   -0.005\n",
              "372   7/8/2023    0.007   -0.003    0.008    0.008   -0.006\n",
              "373   7/9/2023   -0.005   -0.001   -0.008   -0.006   -0.004\n",
              "374  7/10/2023   -0.005   -0.003   -0.008   -0.009    0.005\n",
              "375  7/11/2023    0.004    0.006    0.006   -0.002    0.003\n",
              "\n",
              "[376 rows x 6 columns]"
            ],
            "text/html": [
              "\n",
              "  <div id=\"df-21dddaba-1e4a-4cc2-bcc6-17e78593c272\">\n",
              "    <div class=\"colab-df-container\">\n",
              "      <div>\n",
              "<style scoped>\n",
              "    .dataframe tbody tr th:only-of-type {\n",
              "        vertical-align: middle;\n",
              "    }\n",
              "\n",
              "    .dataframe tbody tr th {\n",
              "        vertical-align: top;\n",
              "    }\n",
              "\n",
              "    .dataframe thead th {\n",
              "        text-align: right;\n",
              "    }\n",
              "</style>\n",
              "<table border=\"1\" class=\"dataframe\">\n",
              "  <thead>\n",
              "    <tr style=\"text-align: right;\">\n",
              "      <th></th>\n",
              "      <th>DATE</th>\n",
              "      <th>ASSET_A</th>\n",
              "      <th>ASSET_B</th>\n",
              "      <th>ASSET_C</th>\n",
              "      <th>ASSET_D</th>\n",
              "      <th>ASSET_E</th>\n",
              "    </tr>\n",
              "  </thead>\n",
              "  <tbody>\n",
              "    <tr>\n",
              "      <th>0</th>\n",
              "      <td>7/1/2022</td>\n",
              "      <td>0.009</td>\n",
              "      <td>-0.003</td>\n",
              "      <td>0.010</td>\n",
              "      <td>0.010</td>\n",
              "      <td>-0.008</td>\n",
              "    </tr>\n",
              "    <tr>\n",
              "      <th>1</th>\n",
              "      <td>7/2/2022</td>\n",
              "      <td>-0.010</td>\n",
              "      <td>0.006</td>\n",
              "      <td>0.001</td>\n",
              "      <td>0.005</td>\n",
              "      <td>0.007</td>\n",
              "    </tr>\n",
              "    <tr>\n",
              "      <th>2</th>\n",
              "      <td>7/3/2022</td>\n",
              "      <td>-0.002</td>\n",
              "      <td>0.010</td>\n",
              "      <td>-0.006</td>\n",
              "      <td>0.002</td>\n",
              "      <td>-0.004</td>\n",
              "    </tr>\n",
              "    <tr>\n",
              "      <th>3</th>\n",
              "      <td>7/4/2022</td>\n",
              "      <td>-0.007</td>\n",
              "      <td>-0.008</td>\n",
              "      <td>0.003</td>\n",
              "      <td>-0.002</td>\n",
              "      <td>0.001</td>\n",
              "    </tr>\n",
              "    <tr>\n",
              "      <th>4</th>\n",
              "      <td>7/5/2022</td>\n",
              "      <td>-0.003</td>\n",
              "      <td>-0.003</td>\n",
              "      <td>0.005</td>\n",
              "      <td>-0.008</td>\n",
              "      <td>-0.009</td>\n",
              "    </tr>\n",
              "    <tr>\n",
              "      <th>...</th>\n",
              "      <td>...</td>\n",
              "      <td>...</td>\n",
              "      <td>...</td>\n",
              "      <td>...</td>\n",
              "      <td>...</td>\n",
              "      <td>...</td>\n",
              "    </tr>\n",
              "    <tr>\n",
              "      <th>371</th>\n",
              "      <td>7/7/2023</td>\n",
              "      <td>0.009</td>\n",
              "      <td>0.003</td>\n",
              "      <td>0.001</td>\n",
              "      <td>0.001</td>\n",
              "      <td>-0.005</td>\n",
              "    </tr>\n",
              "    <tr>\n",
              "      <th>372</th>\n",
              "      <td>7/8/2023</td>\n",
              "      <td>0.007</td>\n",
              "      <td>-0.003</td>\n",
              "      <td>0.008</td>\n",
              "      <td>0.008</td>\n",
              "      <td>-0.006</td>\n",
              "    </tr>\n",
              "    <tr>\n",
              "      <th>373</th>\n",
              "      <td>7/9/2023</td>\n",
              "      <td>-0.005</td>\n",
              "      <td>-0.001</td>\n",
              "      <td>-0.008</td>\n",
              "      <td>-0.006</td>\n",
              "      <td>-0.004</td>\n",
              "    </tr>\n",
              "    <tr>\n",
              "      <th>374</th>\n",
              "      <td>7/10/2023</td>\n",
              "      <td>-0.005</td>\n",
              "      <td>-0.003</td>\n",
              "      <td>-0.008</td>\n",
              "      <td>-0.009</td>\n",
              "      <td>0.005</td>\n",
              "    </tr>\n",
              "    <tr>\n",
              "      <th>375</th>\n",
              "      <td>7/11/2023</td>\n",
              "      <td>0.004</td>\n",
              "      <td>0.006</td>\n",
              "      <td>0.006</td>\n",
              "      <td>-0.002</td>\n",
              "      <td>0.003</td>\n",
              "    </tr>\n",
              "  </tbody>\n",
              "</table>\n",
              "<p>376 rows × 6 columns</p>\n",
              "</div>\n",
              "      <button class=\"colab-df-convert\" onclick=\"convertToInteractive('df-21dddaba-1e4a-4cc2-bcc6-17e78593c272')\"\n",
              "              title=\"Convert this dataframe to an interactive table.\"\n",
              "              style=\"display:none;\">\n",
              "        \n",
              "  <svg xmlns=\"http://www.w3.org/2000/svg\" height=\"24px\"viewBox=\"0 0 24 24\"\n",
              "       width=\"24px\">\n",
              "    <path d=\"M0 0h24v24H0V0z\" fill=\"none\"/>\n",
              "    <path d=\"M18.56 5.44l.94 2.06.94-2.06 2.06-.94-2.06-.94-.94-2.06-.94 2.06-2.06.94zm-11 1L8.5 8.5l.94-2.06 2.06-.94-2.06-.94L8.5 2.5l-.94 2.06-2.06.94zm10 10l.94 2.06.94-2.06 2.06-.94-2.06-.94-.94-2.06-.94 2.06-2.06.94z\"/><path d=\"M17.41 7.96l-1.37-1.37c-.4-.4-.92-.59-1.43-.59-.52 0-1.04.2-1.43.59L10.3 9.45l-7.72 7.72c-.78.78-.78 2.05 0 2.83L4 21.41c.39.39.9.59 1.41.59.51 0 1.02-.2 1.41-.59l7.78-7.78 2.81-2.81c.8-.78.8-2.07 0-2.86zM5.41 20L4 18.59l7.72-7.72 1.47 1.35L5.41 20z\"/>\n",
              "  </svg>\n",
              "      </button>\n",
              "      \n",
              "  <style>\n",
              "    .colab-df-container {\n",
              "      display:flex;\n",
              "      flex-wrap:wrap;\n",
              "      gap: 12px;\n",
              "    }\n",
              "\n",
              "    .colab-df-convert {\n",
              "      background-color: #E8F0FE;\n",
              "      border: none;\n",
              "      border-radius: 50%;\n",
              "      cursor: pointer;\n",
              "      display: none;\n",
              "      fill: #1967D2;\n",
              "      height: 32px;\n",
              "      padding: 0 0 0 0;\n",
              "      width: 32px;\n",
              "    }\n",
              "\n",
              "    .colab-df-convert:hover {\n",
              "      background-color: #E2EBFA;\n",
              "      box-shadow: 0px 1px 2px rgba(60, 64, 67, 0.3), 0px 1px 3px 1px rgba(60, 64, 67, 0.15);\n",
              "      fill: #174EA6;\n",
              "    }\n",
              "\n",
              "    [theme=dark] .colab-df-convert {\n",
              "      background-color: #3B4455;\n",
              "      fill: #D2E3FC;\n",
              "    }\n",
              "\n",
              "    [theme=dark] .colab-df-convert:hover {\n",
              "      background-color: #434B5C;\n",
              "      box-shadow: 0px 1px 3px 1px rgba(0, 0, 0, 0.15);\n",
              "      filter: drop-shadow(0px 1px 2px rgba(0, 0, 0, 0.3));\n",
              "      fill: #FFFFFF;\n",
              "    }\n",
              "  </style>\n",
              "\n",
              "      <script>\n",
              "        const buttonEl =\n",
              "          document.querySelector('#df-21dddaba-1e4a-4cc2-bcc6-17e78593c272 button.colab-df-convert');\n",
              "        buttonEl.style.display =\n",
              "          google.colab.kernel.accessAllowed ? 'block' : 'none';\n",
              "\n",
              "        async function convertToInteractive(key) {\n",
              "          const element = document.querySelector('#df-21dddaba-1e4a-4cc2-bcc6-17e78593c272');\n",
              "          const dataTable =\n",
              "            await google.colab.kernel.invokeFunction('convertToInteractive',\n",
              "                                                     [key], {});\n",
              "          if (!dataTable) return;\n",
              "\n",
              "          const docLinkHtml = 'Like what you see? Visit the ' +\n",
              "            '<a target=\"_blank\" href=https://colab.research.google.com/notebooks/data_table.ipynb>data table notebook</a>'\n",
              "            + ' to learn more about interactive tables.';\n",
              "          element.innerHTML = '';\n",
              "          dataTable['output_type'] = 'display_data';\n",
              "          await google.colab.output.renderOutput(dataTable, element);\n",
              "          const docLink = document.createElement('div');\n",
              "          docLink.innerHTML = docLinkHtml;\n",
              "          element.appendChild(docLink);\n",
              "        }\n",
              "      </script>\n",
              "    </div>\n",
              "  </div>\n",
              "  "
            ]
          },
          "metadata": {},
          "execution_count": 151
        }
      ]
    },
    {
      "cell_type": "code",
      "source": [
        "sns.boxplot(data=df)"
      ],
      "metadata": {
        "colab": {
          "base_uri": "https://localhost:8080/",
          "height": 443
        },
        "id": "ziC-rBIxNeUx",
        "outputId": "bc00c6ac-4b90-4a65-a95a-3e53e62f6004"
      },
      "execution_count": null,
      "outputs": [
        {
          "output_type": "execute_result",
          "data": {
            "text/plain": [
              "<Axes: >"
            ]
          },
          "metadata": {},
          "execution_count": 160
        },
        {
          "output_type": "display_data",
          "data": {
            "text/plain": [
              "<Figure size 640x480 with 1 Axes>"
            ],
            "image/png": "[encoded data removed]"
          },
          "metadata": {}
        }
      ]
    },
    {
      "cell_type": "markdown",
      "source": [
        "Calculating correlation among the columns to ascertain any correlation between the 'int64' type \n",
        "As we know, the correlation of a variable with itself is 1, which explains why the diagonal values will be all 1"
      ],
      "metadata": {
        "id": "sOh4uUfOIFYS"
      }
    },
    {
      "cell_type": "code",
      "source": [
        "import matplotlib.pyplot as plt"
      ],
      "metadata": {
        "id": "hALjz5atNNy_"
      },
      "execution_count": null,
      "outputs": []
    },
    {
      "cell_type": "code",
      "source": [
        "#showing correlation\n",
        "cor=df.corr()        #using the kendall method to calculate correlation\n",
        "top_corr_features=cor.index\n",
        "plt.figure(figsize=(40,40))\n",
        "plt.tight_layout()\n",
        "cor"
      ],
      "metadata": {
        "colab": {
          "base_uri": "https://localhost:8080/",
          "height": 223
        },
        "id": "nwWI4jNyGMpf",
        "outputId": "92ce335b-83f3-4fc4-ea8c-e792154dc2d9"
      },
      "execution_count": null,
      "outputs": [
        {
          "output_type": "execute_result",
          "data": {
            "text/plain": [
              "          ASSET_A   ASSET_B   ASSET_C   ASSET_D   ASSET_E\n",
              "ASSET_A  1.000000  0.028448 -0.012809  0.002216  0.120407\n",
              "ASSET_B  0.028448  1.000000  0.103875  0.072939  0.014652\n",
              "ASSET_C -0.012809  0.103875  1.000000  0.020318 -0.037337\n",
              "ASSET_D  0.002216  0.072939  0.020318  1.000000  0.060644\n",
              "ASSET_E  0.120407  0.014652 -0.037337  0.060644  1.000000"
            ],
            "text/html": [
              "\n",
              "  <div id=\"df-2a4ca736-49af-416b-a0ea-dc56980b4850\">\n",
              "    <div class=\"colab-df-container\">\n",
              "      <div>\n",
              "<style scoped>\n",
              "    .dataframe tbody tr th:only-of-type {\n",
              "        vertical-align: middle;\n",
              "    }\n",
              "\n",
              "    .dataframe tbody tr th {\n",
              "        vertical-align: top;\n",
              "    }\n",
              "\n",
              "    .dataframe thead th {\n",
              "        text-align: right;\n",
              "    }\n",
              "</style>\n",
              "<table border=\"1\" class=\"dataframe\">\n",
              "  <thead>\n",
              "    <tr style=\"text-align: right;\">\n",
              "      <th></th>\n",
              "      <th>ASSET_A</th>\n",
              "      <th>ASSET_B</th>\n",
              "      <th>ASSET_C</th>\n",
              "      <th>ASSET_D</th>\n",
              "      <th>ASSET_E</th>\n",
              "    </tr>\n",
              "  </thead>\n",
              "  <tbody>\n",
              "    <tr>\n",
              "      <th>ASSET_A</th>\n",
              "      <td>1.000000</td>\n",
              "      <td>0.028448</td>\n",
              "      <td>-0.012809</td>\n",
              "      <td>0.002216</td>\n",
              "      <td>0.120407</td>\n",
              "    </tr>\n",
              "    <tr>\n",
              "      <th>ASSET_B</th>\n",
              "      <td>0.028448</td>\n",
              "      <td>1.000000</td>\n",
              "      <td>0.103875</td>\n",
              "      <td>0.072939</td>\n",
              "      <td>0.014652</td>\n",
              "    </tr>\n",
              "    <tr>\n",
              "      <th>ASSET_C</th>\n",
              "      <td>-0.012809</td>\n",
              "      <td>0.103875</td>\n",
              "      <td>1.000000</td>\n",
              "      <td>0.020318</td>\n",
              "      <td>-0.037337</td>\n",
              "    </tr>\n",
              "    <tr>\n",
              "      <th>ASSET_D</th>\n",
              "      <td>0.002216</td>\n",
              "      <td>0.072939</td>\n",
              "      <td>0.020318</td>\n",
              "      <td>1.000000</td>\n",
              "      <td>0.060644</td>\n",
              "    </tr>\n",
              "    <tr>\n",
              "      <th>ASSET_E</th>\n",
              "      <td>0.120407</td>\n",
              "      <td>0.014652</td>\n",
              "      <td>-0.037337</td>\n",
              "      <td>0.060644</td>\n",
              "      <td>1.000000</td>\n",
              "    </tr>\n",
              "  </tbody>\n",
              "</table>\n",
              "</div>\n",
              "      <button class=\"colab-df-convert\" onclick=\"convertToInteractive('df-2a4ca736-49af-416b-a0ea-dc56980b4850')\"\n",
              "              title=\"Convert this dataframe to an interactive table.\"\n",
              "              style=\"display:none;\">\n",
              "        \n",
              "  <svg xmlns=\"http://www.w3.org/2000/svg\" height=\"24px\"viewBox=\"0 0 24 24\"\n",
              "       width=\"24px\">\n",
              "    <path d=\"M0 0h24v24H0V0z\" fill=\"none\"/>\n",
              "    <path d=\"M18.56 5.44l.94 2.06.94-2.06 2.06-.94-2.06-.94-.94-2.06-.94 2.06-2.06.94zm-11 1L8.5 8.5l.94-2.06 2.06-.94-2.06-.94L8.5 2.5l-.94 2.06-2.06.94zm10 10l.94 2.06.94-2.06 2.06-.94-2.06-.94-.94-2.06-.94 2.06-2.06.94z\"/><path d=\"M17.41 7.96l-1.37-1.37c-.4-.4-.92-.59-1.43-.59-.52 0-1.04.2-1.43.59L10.3 9.45l-7.72 7.72c-.78.78-.78 2.05 0 2.83L4 21.41c.39.39.9.59 1.41.59.51 0 1.02-.2 1.41-.59l7.78-7.78 2.81-2.81c.8-.78.8-2.07 0-2.86zM5.41 20L4 18.59l7.72-7.72 1.47 1.35L5.41 20z\"/>\n",
              "  </svg>\n",
              "      </button>\n",
              "      \n",
              "  <style>\n",
              "    .colab-df-container {\n",
              "      display:flex;\n",
              "      flex-wrap:wrap;\n",
              "      gap: 12px;\n",
              "    }\n",
              "\n",
              "    .colab-df-convert {\n",
              "      background-color: #E8F0FE;\n",
              "      border: none;\n",
              "      border-radius: 50%;\n",
              "      cursor: pointer;\n",
              "      display: none;\n",
              "      fill: #1967D2;\n",
              "      height: 32px;\n",
              "      padding: 0 0 0 0;\n",
              "      width: 32px;\n",
              "    }\n",
              "\n",
              "    .colab-df-convert:hover {\n",
              "      background-color: #E2EBFA;\n",
              "      box-shadow: 0px 1px 2px rgba(60, 64, 67, 0.3), 0px 1px 3px 1px rgba(60, 64, 67, 0.15);\n",
              "      fill: #174EA6;\n",
              "    }\n",
              "\n",
              "    [theme=dark] .colab-df-convert {\n",
              "      background-color: #3B4455;\n",
              "      fill: #D2E3FC;\n",
              "    }\n",
              "\n",
              "    [theme=dark] .colab-df-convert:hover {\n",
              "      background-color: #434B5C;\n",
              "      box-shadow: 0px 1px 3px 1px rgba(0, 0, 0, 0.15);\n",
              "      filter: drop-shadow(0px 1px 2px rgba(0, 0, 0, 0.3));\n",
              "      fill: #FFFFFF;\n",
              "    }\n",
              "  </style>\n",
              "\n",
              "      <script>\n",
              "        const buttonEl =\n",
              "          document.querySelector('#df-2a4ca736-49af-416b-a0ea-dc56980b4850 button.colab-df-convert');\n",
              "        buttonEl.style.display =\n",
              "          google.colab.kernel.accessAllowed ? 'block' : 'none';\n",
              "\n",
              "        async function convertToInteractive(key) {\n",
              "          const element = document.querySelector('#df-2a4ca736-49af-416b-a0ea-dc56980b4850');\n",
              "          const dataTable =\n",
              "            await google.colab.kernel.invokeFunction('convertToInteractive',\n",
              "                                                     [key], {});\n",
              "          if (!dataTable) return;\n",
              "\n",
              "          const docLinkHtml = 'Like what you see? Visit the ' +\n",
              "            '<a target=\"_blank\" href=https://colab.research.google.com/notebooks/data_table.ipynb>data table notebook</a>'\n",
              "            + ' to learn more about interactive tables.';\n",
              "          element.innerHTML = '';\n",
              "          dataTable['output_type'] = 'display_data';\n",
              "          await google.colab.output.renderOutput(dataTable, element);\n",
              "          const docLink = document.createElement('div');\n",
              "          docLink.innerHTML = docLinkHtml;\n",
              "          element.appendChild(docLink);\n",
              "        }\n",
              "      </script>\n",
              "    </div>\n",
              "  </div>\n",
              "  "
            ]
          },
          "metadata": {},
          "execution_count": 154
        },
        {
          "output_type": "display_data",
          "data": {
            "text/plain": [
              "<Figure size 4000x4000 with 0 Axes>"
            ]
          },
          "metadata": {}
        }
      ]
    },
    {
      "cell_type": "code",
      "source": [
        "top_corr_features"
      ],
      "metadata": {
        "colab": {
          "base_uri": "https://localhost:8080/"
        },
        "id": "rxFnUFXcHnHo",
        "outputId": "58099c87-7a24-4936-f680-b18a0a712189"
      },
      "execution_count": null,
      "outputs": [
        {
          "output_type": "execute_result",
          "data": {
            "text/plain": [
              "Index(['ASSET_A', 'ASSET_B', 'ASSET_C', 'ASSET_D', 'ASSET_E'], dtype='object')"
            ]
          },
          "metadata": {},
          "execution_count": 155
        }
      ]
    },
    {
      "cell_type": "code",
      "source": [
        "g=sns.heatmap(df[top_corr_features].corr(),annot=True)"
      ],
      "metadata": {
        "colab": {
          "base_uri": "https://localhost:8080/",
          "height": 449
        },
        "id": "7x-Hf9W9HNt0",
        "outputId": "1a48cca8-b489-476b-973d-e264eef1a84c"
      },
      "execution_count": null,
      "outputs": [
        {
          "output_type": "display_data",
          "data": {
            "text/plain": [
              "<Figure size 640x480 with 2 Axes>"
            ],
            "image/png": "[encoded data removed]"
          },
          "metadata": {}
        }
      ]
    },
    {
      "cell_type": "code",
      "source": [
        "col=len(df.columns)-1"
      ],
      "metadata": {
        "id": "MT8o8b8UTRC6"
      },
      "execution_count": null,
      "outputs": []
    },
    {
      "cell_type": "code",
      "source": [
        "string1='RET_'\n",
        "string2='ASSET_'\n",
        "a=64\n",
        "for i in range(1,col+1):\n",
        "  col_ret=string1+chr(a+i)\n",
        "  col_name=string2+chr(a+i)\n",
        "  df[col_ret]=-1\n",
        "  for j in range(0,len(df[col_name])-1):\n",
        "    val=(df[col_name][j+1]-df[col_name][j])/df[col_name][j]\n",
        "    df[col_ret][j]=round(val,3)\n",
        "  df[col_ret].iloc[-1]=df[col_name].iloc[-1]"
      ],
      "metadata": {
        "id": "pAAbxe6dZ4Ro"
      },
      "execution_count": null,
      "outputs": []
    },
    {
      "cell_type": "code",
      "source": [
        "weight = 0.5\n",
        "string ='ASSET_'\n",
        "df['portfolio_ret'] = -1;\n",
        "a=64\n",
        "for i in range(1,col):\n",
        "  assest_name=string+chr(a+i)\n",
        "  df['portfolio_ret'] += weight * df[assest_name]"
      ],
      "metadata": {
        "id": "gAPeTBGog0ce"
      },
      "execution_count": null,
      "outputs": []
    },
    {
      "cell_type": "code",
      "source": [
        "df['portfolio_ret']"
      ],
      "metadata": {
        "colab": {
          "base_uri": "https://localhost:8080/"
        },
        "id": "JsVK5fWLjIix",
        "outputId": "8d1ad742-f4b3-4452-fd06-6a2e04d8eca8"
      },
      "execution_count": null,
      "outputs": [
        {
          "output_type": "execute_result",
          "data": {
            "text/plain": [
              "0     -0.9870\n",
              "1     -0.9990\n",
              "2     -0.9980\n",
              "3     -1.0070\n",
              "4     -1.0045\n",
              "        ...  \n",
              "371   -0.9930\n",
              "372   -0.9900\n",
              "373   -1.0100\n",
              "374   -1.0125\n",
              "375   -0.9930\n",
              "Name: portfolio_ret, Length: 376, dtype: float64"
            ]
          },
          "metadata": {},
          "execution_count": 166
        }
      ]
    },
    {
      "cell_type": "code",
      "source": [
        "std_pf_ret = df['portfolio_ret'].std()\n",
        "std_pf_ret"
      ],
      "metadata": {
        "colab": {
          "base_uri": "https://localhost:8080/"
        },
        "id": "7IzNKA9AjWlc",
        "outputId": "48a6dd85-9fde-4055-9134-30954e2685ba"
      },
      "execution_count": null,
      "outputs": [
        {
          "output_type": "execute_result",
          "data": {
            "text/plain": [
              "0.006449372392358695"
            ]
          },
          "metadata": {},
          "execution_count": 167
        }
      ]
    },
    {
      "cell_type": "code",
      "source": [
        "df.columns"
      ],
      "metadata": {
        "id": "W7aw-2s_9I5S",
        "colab": {
          "base_uri": "https://localhost:8080/"
        },
        "outputId": "8b080633-e763-4109-a1fb-3a4af72dfc8a"
      },
      "execution_count": null,
      "outputs": [
        {
          "output_type": "execute_result",
          "data": {
            "text/plain": [
              "Index(['DATE', 'ASSET_A', 'ASSET_B', 'ASSET_C', 'ASSET_D', 'ASSET_E',\n",
              "       'portfolio_ret', 'RET_A', 'RET_B', 'RET_C', 'RET_D', 'RET_E'],\n",
              "      dtype='object')"
            ]
          },
          "metadata": {},
          "execution_count": 168
        }
      ]
    },
    {
      "cell_type": "code",
      "source": [
        "df"
      ],
      "metadata": {
        "colab": {
          "base_uri": "https://localhost:8080/",
          "height": 487
        },
        "id": "Bc_u5xF2OLFf",
        "outputId": "2d744654-c322-42a4-de5f-a3d39a7d6262"
      },
      "execution_count": null,
      "outputs": [
        {
          "output_type": "execute_result",
          "data": {
            "text/plain": [
              "          DATE  ASSET_A  ASSET_B  ASSET_C  ASSET_D  ASSET_E  portfolio_ret  \\\n",
              "0     7/1/2022    0.009   -0.003    0.010    0.010   -0.008        -0.9870   \n",
              "1     7/2/2022   -0.010    0.006    0.001    0.005    0.007        -0.9990   \n",
              "2     7/3/2022   -0.002    0.010   -0.006    0.002   -0.004        -0.9980   \n",
              "3     7/4/2022   -0.007   -0.008    0.003   -0.002    0.001        -1.0070   \n",
              "4     7/5/2022   -0.003   -0.003    0.005   -0.008   -0.009        -1.0045   \n",
              "..         ...      ...      ...      ...      ...      ...            ...   \n",
              "371   7/7/2023    0.009    0.003    0.001    0.001   -0.005        -0.9930   \n",
              "372   7/8/2023    0.007   -0.003    0.008    0.008   -0.006        -0.9900   \n",
              "373   7/9/2023   -0.005   -0.001   -0.008   -0.006   -0.004        -1.0100   \n",
              "374  7/10/2023   -0.005   -0.003   -0.008   -0.009    0.005        -1.0125   \n",
              "375  7/11/2023    0.004    0.006    0.006   -0.002    0.003        -0.9930   \n",
              "\n",
              "     RET_A  RET_B  RET_C  RET_D   RET_E  \n",
              "0   -2.111 -3.000 -0.900 -0.500  -1.875  \n",
              "1   -0.800  0.667 -7.000 -0.600  -1.571  \n",
              "2    2.500 -1.800 -1.500 -2.000  -1.250  \n",
              "3   -0.571 -0.625  0.667  3.000 -10.000  \n",
              "4   -0.667 -0.000 -1.800 -1.375  -0.778  \n",
              "..     ...    ...    ...    ...     ...  \n",
              "371 -0.222 -2.000  7.000  7.000   0.200  \n",
              "372 -1.714 -0.667 -2.000 -1.750  -0.333  \n",
              "373 -0.000  2.000 -0.000  0.500  -2.250  \n",
              "374 -1.800 -3.000 -1.750 -0.778  -0.400  \n",
              "375  0.004  0.006  0.006 -0.002   0.003  \n",
              "\n",
              "[376 rows x 12 columns]"
            ],
            "text/html": [
              "\n",
              "  <div id=\"df-a29ffdcf-216d-4713-9363-b6af5a07b6ec\">\n",
              "    <div class=\"colab-df-container\">\n",
              "      <div>\n",
              "<style scoped>\n",
              "    .dataframe tbody tr th:only-of-type {\n",
              "        vertical-align: middle;\n",
              "    }\n",
              "\n",
              "    .dataframe tbody tr th {\n",
              "        vertical-align: top;\n",
              "    }\n",
              "\n",
              "    .dataframe thead th {\n",
              "        text-align: right;\n",
              "    }\n",
              "</style>\n",
              "<table border=\"1\" class=\"dataframe\">\n",
              "  <thead>\n",
              "    <tr style=\"text-align: right;\">\n",
              "      <th></th>\n",
              "      <th>DATE</th>\n",
              "      <th>ASSET_A</th>\n",
              "      <th>ASSET_B</th>\n",
              "      <th>ASSET_C</th>\n",
              "      <th>ASSET_D</th>\n",
              "      <th>ASSET_E</th>\n",
              "      <th>portfolio_ret</th>\n",
              "      <th>RET_A</th>\n",
              "      <th>RET_B</th>\n",
              "      <th>RET_C</th>\n",
              "      <th>RET_D</th>\n",
              "      <th>RET_E</th>\n",
              "    </tr>\n",
              "  </thead>\n",
              "  <tbody>\n",
              "    <tr>\n",
              "      <th>0</th>\n",
              "      <td>7/1/2022</td>\n",
              "      <td>0.009</td>\n",
              "      <td>-0.003</td>\n",
              "      <td>0.010</td>\n",
              "      <td>0.010</td>\n",
              "      <td>-0.008</td>\n",
              "      <td>-0.9870</td>\n",
              "      <td>-2.111</td>\n",
              "      <td>-3.000</td>\n",
              "      <td>-0.900</td>\n",
              "      <td>-0.500</td>\n",
              "      <td>-1.875</td>\n",
              "    </tr>\n",
              "    <tr>\n",
              "      <th>1</th>\n",
              "      <td>7/2/2022</td>\n",
              "      <td>-0.010</td>\n",
              "      <td>0.006</td>\n",
              "      <td>0.001</td>\n",
              "      <td>0.005</td>\n",
              "      <td>0.007</td>\n",
              "      <td>-0.9990</td>\n",
              "      <td>-0.800</td>\n",
              "      <td>0.667</td>\n",
              "      <td>-7.000</td>\n",
              "      <td>-0.600</td>\n",
              "      <td>-1.571</td>\n",
              "    </tr>\n",
              "    <tr>\n",
              "      <th>2</th>\n",
              "      <td>7/3/2022</td>\n",
              "      <td>-0.002</td>\n",
              "      <td>0.010</td>\n",
              "      <td>-0.006</td>\n",
              "      <td>0.002</td>\n",
              "      <td>-0.004</td>\n",
              "      <td>-0.9980</td>\n",
              "      <td>2.500</td>\n",
              "      <td>-1.800</td>\n",
              "      <td>-1.500</td>\n",
              "      <td>-2.000</td>\n",
              "      <td>-1.250</td>\n",
              "    </tr>\n",
              "    <tr>\n",
              "      <th>3</th>\n",
              "      <td>7/4/2022</td>\n",
              "      <td>-0.007</td>\n",
              "      <td>-0.008</td>\n",
              "      <td>0.003</td>\n",
              "      <td>-0.002</td>\n",
              "      <td>0.001</td>\n",
              "      <td>-1.0070</td>\n",
              "      <td>-0.571</td>\n",
              "      <td>-0.625</td>\n",
              "      <td>0.667</td>\n",
              "      <td>3.000</td>\n",
              "      <td>-10.000</td>\n",
              "    </tr>\n",
              "    <tr>\n",
              "      <th>4</th>\n",
              "      <td>7/5/2022</td>\n",
              "      <td>-0.003</td>\n",
              "      <td>-0.003</td>\n",
              "      <td>0.005</td>\n",
              "      <td>-0.008</td>\n",
              "      <td>-0.009</td>\n",
              "      <td>-1.0045</td>\n",
              "      <td>-0.667</td>\n",
              "      <td>-0.000</td>\n",
              "      <td>-1.800</td>\n",
              "      <td>-1.375</td>\n",
              "      <td>-0.778</td>\n",
              "    </tr>\n",
              "    <tr>\n",
              "      <th>...</th>\n",
              "      <td>...</td>\n",
              "      <td>...</td>\n",
              "      <td>...</td>\n",
              "      <td>...</td>\n",
              "      <td>...</td>\n",
              "      <td>...</td>\n",
              "      <td>...</td>\n",
              "      <td>...</td>\n",
              "      <td>...</td>\n",
              "      <td>...</td>\n",
              "      <td>...</td>\n",
              "      <td>...</td>\n",
              "    </tr>\n",
              "    <tr>\n",
              "      <th>371</th>\n",
              "      <td>7/7/2023</td>\n",
              "      <td>0.009</td>\n",
              "      <td>0.003</td>\n",
              "      <td>0.001</td>\n",
              "      <td>0.001</td>\n",
              "      <td>-0.005</td>\n",
              "      <td>-0.9930</td>\n",
              "      <td>-0.222</td>\n",
              "      <td>-2.000</td>\n",
              "      <td>7.000</td>\n",
              "      <td>7.000</td>\n",
              "      <td>0.200</td>\n",
              "    </tr>\n",
              "    <tr>\n",
              "      <th>372</th>\n",
              "      <td>7/8/2023</td>\n",
              "      <td>0.007</td>\n",
              "      <td>-0.003</td>\n",
              "      <td>0.008</td>\n",
              "      <td>0.008</td>\n",
              "      <td>-0.006</td>\n",
              "      <td>-0.9900</td>\n",
              "      <td>-1.714</td>\n",
              "      <td>-0.667</td>\n",
              "      <td>-2.000</td>\n",
              "      <td>-1.750</td>\n",
              "      <td>-0.333</td>\n",
              "    </tr>\n",
              "    <tr>\n",
              "      <th>373</th>\n",
              "      <td>7/9/2023</td>\n",
              "      <td>-0.005</td>\n",
              "      <td>-0.001</td>\n",
              "      <td>-0.008</td>\n",
              "      <td>-0.006</td>\n",
              "      <td>-0.004</td>\n",
              "      <td>-1.0100</td>\n",
              "      <td>-0.000</td>\n",
              "      <td>2.000</td>\n",
              "      <td>-0.000</td>\n",
              "      <td>0.500</td>\n",
              "      <td>-2.250</td>\n",
              "    </tr>\n",
              "    <tr>\n",
              "      <th>374</th>\n",
              "      <td>7/10/2023</td>\n",
              "      <td>-0.005</td>\n",
              "      <td>-0.003</td>\n",
              "      <td>-0.008</td>\n",
              "      <td>-0.009</td>\n",
              "      <td>0.005</td>\n",
              "      <td>-1.0125</td>\n",
              "      <td>-1.800</td>\n",
              "      <td>-3.000</td>\n",
              "      <td>-1.750</td>\n",
              "      <td>-0.778</td>\n",
              "      <td>-0.400</td>\n",
              "    </tr>\n",
              "    <tr>\n",
              "      <th>375</th>\n",
              "      <td>7/11/2023</td>\n",
              "      <td>0.004</td>\n",
              "      <td>0.006</td>\n",
              "      <td>0.006</td>\n",
              "      <td>-0.002</td>\n",
              "      <td>0.003</td>\n",
              "      <td>-0.9930</td>\n",
              "      <td>0.004</td>\n",
              "      <td>0.006</td>\n",
              "      <td>0.006</td>\n",
              "      <td>-0.002</td>\n",
              "      <td>0.003</td>\n",
              "    </tr>\n",
              "  </tbody>\n",
              "</table>\n",
              "<p>376 rows × 12 columns</p>\n",
              "</div>\n",
              "      <button class=\"colab-df-convert\" onclick=\"convertToInteractive('df-a29ffdcf-216d-4713-9363-b6af5a07b6ec')\"\n",
              "              title=\"Convert this dataframe to an interactive table.\"\n",
              "              style=\"display:none;\">\n",
              "        \n",
              "  <svg xmlns=\"http://www.w3.org/2000/svg\" height=\"24px\"viewBox=\"0 0 24 24\"\n",
              "       width=\"24px\">\n",
              "    <path d=\"M0 0h24v24H0V0z\" fill=\"none\"/>\n",
              "    <path d=\"M18.56 5.44l.94 2.06.94-2.06 2.06-.94-2.06-.94-.94-2.06-.94 2.06-2.06.94zm-11 1L8.5 8.5l.94-2.06 2.06-.94-2.06-.94L8.5 2.5l-.94 2.06-2.06.94zm10 10l.94 2.06.94-2.06 2.06-.94-2.06-.94-.94-2.06-.94 2.06-2.06.94z\"/><path d=\"M17.41 7.96l-1.37-1.37c-.4-.4-.92-.59-1.43-.59-.52 0-1.04.2-1.43.59L10.3 9.45l-7.72 7.72c-.78.78-.78 2.05 0 2.83L4 21.41c.39.39.9.59 1.41.59.51 0 1.02-.2 1.41-.59l7.78-7.78 2.81-2.81c.8-.78.8-2.07 0-2.86zM5.41 20L4 18.59l7.72-7.72 1.47 1.35L5.41 20z\"/>\n",
              "  </svg>\n",
              "      </button>\n",
              "      \n",
              "  <style>\n",
              "    .colab-df-container {\n",
              "      display:flex;\n",
              "      flex-wrap:wrap;\n",
              "      gap: 12px;\n",
              "    }\n",
              "\n",
              "    .colab-df-convert {\n",
              "      background-color: #E8F0FE;\n",
              "      border: none;\n",
              "      border-radius: 50%;\n",
              "      cursor: pointer;\n",
              "      display: none;\n",
              "      fill: #1967D2;\n",
              "      height: 32px;\n",
              "      padding: 0 0 0 0;\n",
              "      width: 32px;\n",
              "    }\n",
              "\n",
              "    .colab-df-convert:hover {\n",
              "      background-color: #E2EBFA;\n",
              "      box-shadow: 0px 1px 2px rgba(60, 64, 67, 0.3), 0px 1px 3px 1px rgba(60, 64, 67, 0.15);\n",
              "      fill: #174EA6;\n",
              "    }\n",
              "\n",
              "    [theme=dark] .colab-df-convert {\n",
              "      background-color: #3B4455;\n",
              "      fill: #D2E3FC;\n",
              "    }\n",
              "\n",
              "    [theme=dark] .colab-df-convert:hover {\n",
              "      background-color: #434B5C;\n",
              "      box-shadow: 0px 1px 3px 1px rgba(0, 0, 0, 0.15);\n",
              "      filter: drop-shadow(0px 1px 2px rgba(0, 0, 0, 0.3));\n",
              "      fill: #FFFFFF;\n",
              "    }\n",
              "  </style>\n",
              "\n",
              "      <script>\n",
              "        const buttonEl =\n",
              "          document.querySelector('#df-a29ffdcf-216d-4713-9363-b6af5a07b6ec button.colab-df-convert');\n",
              "        buttonEl.style.display =\n",
              "          google.colab.kernel.accessAllowed ? 'block' : 'none';\n",
              "\n",
              "        async function convertToInteractive(key) {\n",
              "          const element = document.querySelector('#df-a29ffdcf-216d-4713-9363-b6af5a07b6ec');\n",
              "          const dataTable =\n",
              "            await google.colab.kernel.invokeFunction('convertToInteractive',\n",
              "                                                     [key], {});\n",
              "          if (!dataTable) return;\n",
              "\n",
              "          const docLinkHtml = 'Like what you see? Visit the ' +\n",
              "            '<a target=\"_blank\" href=https://colab.research.google.com/notebooks/data_table.ipynb>data table notebook</a>'\n",
              "            + ' to learn more about interactive tables.';\n",
              "          element.innerHTML = '';\n",
              "          dataTable['output_type'] = 'display_data';\n",
              "          await google.colab.output.renderOutput(dataTable, element);\n",
              "          const docLink = document.createElement('div');\n",
              "          docLink.innerHTML = docLinkHtml;\n",
              "          element.appendChild(docLink);\n",
              "        }\n",
              "      </script>\n",
              "    </div>\n",
              "  </div>\n",
              "  "
            ]
          },
          "metadata": {},
          "execution_count": 169
        }
      ]
    },
    {
      "cell_type": "markdown",
      "source": [
        "Importing the pickle file to load pickle values"
      ],
      "metadata": {
        "id": "XyWOR49VOnvN"
      }
    },
    {
      "cell_type": "code",
      "source": [
        "import pickle\n",
        "import joblib"
      ],
      "metadata": {
        "id": "D3iwEteiOmoo"
      },
      "execution_count": null,
      "outputs": []
    },
    {
      "cell_type": "code",
      "source": [
        "joblib.dump(std_pf_ret,'std_dev.pkl')"
      ],
      "metadata": {
        "colab": {
          "base_uri": "https://localhost:8080/"
        },
        "id": "P9L61wvyOtdB",
        "outputId": "a049ed45-f505-4f97-c4ca-cbf1222a5ab8"
      },
      "execution_count": null,
      "outputs": [
        {
          "output_type": "execute_result",
          "data": {
            "text/plain": [
              "['std_dev.pkl']"
            ]
          },
          "metadata": {},
          "execution_count": 172
        }
      ]
    }
  ]
}